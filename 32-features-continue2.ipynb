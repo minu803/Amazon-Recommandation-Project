{
 "cells": [
  {
   "cell_type": "code",
   "execution_count": 1,
   "metadata": {},
   "outputs": [
    {
     "name": "stderr",
     "output_type": "stream",
     "text": [
      "/Users/stoneman/opt/anaconda3/lib/python3.9/site-packages/pandas/core/computation/expressions.py:21: UserWarning: Pandas requires version '2.8.4' or newer of 'numexpr' (version '2.7.3' currently installed).\n",
      "  from pandas.core.computation.check import NUMEXPR_INSTALLED\n",
      "/Users/stoneman/opt/anaconda3/lib/python3.9/site-packages/pandas/core/arrays/masked.py:60: UserWarning: Pandas requires version '1.3.6' or newer of 'bottleneck' (version '1.3.2' currently installed).\n",
      "  from pandas.core import (\n"
     ]
    }
   ],
   "source": [
    "import pandas as pd\n",
    "import numpy as np"
   ]
  },
  {
   "cell_type": "code",
   "execution_count": 2,
   "metadata": {},
   "outputs": [],
   "source": [
    "items = pd.read_csv('/Users/stoneman/Library/CloudStorage/OneDrive-Vanderbilt/Social_Network_Analysis/Amazon_Recommandation_Project/data/products_train_UK_representations.csv')"
   ]
  },
  {
   "cell_type": "code",
   "execution_count": 4,
   "metadata": {},
   "outputs": [
    {
     "data": {
      "text/plain": [
       "index                 int64\n",
       "id                   object\n",
       "price               float64\n",
       "representation       object\n",
       "aggregated_price    float64\n",
       "dtype: object"
      ]
     },
     "execution_count": 4,
     "metadata": {},
     "output_type": "execute_result"
    }
   ],
   "source": [
    "items.dtypes"
   ]
  },
  {
   "cell_type": "code",
   "execution_count": 5,
   "metadata": {},
   "outputs": [
    {
     "data": {
      "text/html": [
       "<div>\n",
       "<style scoped>\n",
       "    .dataframe tbody tr th:only-of-type {\n",
       "        vertical-align: middle;\n",
       "    }\n",
       "\n",
       "    .dataframe tbody tr th {\n",
       "        vertical-align: top;\n",
       "    }\n",
       "\n",
       "    .dataframe thead th {\n",
       "        text-align: right;\n",
       "    }\n",
       "</style>\n",
       "<table border=\"1\" class=\"dataframe\">\n",
       "  <thead>\n",
       "    <tr style=\"text-align: right;\">\n",
       "      <th></th>\n",
       "      <th>index</th>\n",
       "      <th>id</th>\n",
       "      <th>price</th>\n",
       "      <th>representation</th>\n",
       "      <th>aggregated_price</th>\n",
       "    </tr>\n",
       "  </thead>\n",
       "  <tbody>\n",
       "    <tr>\n",
       "      <th>0</th>\n",
       "      <td>0</td>\n",
       "      <td>B07PNBPVN1</td>\n",
       "      <td>3.75</td>\n",
       "      <td>[-0.21872417628765106, -0.2500726580619812, -0...</td>\n",
       "      <td>7.297000</td>\n",
       "    </tr>\n",
       "    <tr>\n",
       "      <th>1</th>\n",
       "      <td>1</td>\n",
       "      <td>B0B45XQ6Q3</td>\n",
       "      <td>8.59</td>\n",
       "      <td>[-0.7130799889564514, -0.5445948839187622, -0....</td>\n",
       "      <td>11.618000</td>\n",
       "    </tr>\n",
       "    <tr>\n",
       "      <th>2</th>\n",
       "      <td>2</td>\n",
       "      <td>B01CR9IRWY</td>\n",
       "      <td>16.00</td>\n",
       "      <td>[-0.8353576064109802, -0.6093693375587463, -0....</td>\n",
       "      <td>16.546154</td>\n",
       "    </tr>\n",
       "    <tr>\n",
       "      <th>3</th>\n",
       "      <td>3</td>\n",
       "      <td>B077RCBS9C</td>\n",
       "      <td>36.98</td>\n",
       "      <td>[-0.8522624969482422, -0.5257986783981323, -0....</td>\n",
       "      <td>16.237500</td>\n",
       "    </tr>\n",
       "    <tr>\n",
       "      <th>4</th>\n",
       "      <td>4</td>\n",
       "      <td>B088BMDXPD</td>\n",
       "      <td>7.99</td>\n",
       "      <td>[-0.8538389205932617, -0.47541171312332153, -0...</td>\n",
       "      <td>13.237500</td>\n",
       "    </tr>\n",
       "  </tbody>\n",
       "</table>\n",
       "</div>"
      ],
      "text/plain": [
       "   index          id  price  \\\n",
       "0      0  B07PNBPVN1   3.75   \n",
       "1      1  B0B45XQ6Q3   8.59   \n",
       "2      2  B01CR9IRWY  16.00   \n",
       "3      3  B077RCBS9C  36.98   \n",
       "4      4  B088BMDXPD   7.99   \n",
       "\n",
       "                                      representation  aggregated_price  \n",
       "0  [-0.21872417628765106, -0.2500726580619812, -0...          7.297000  \n",
       "1  [-0.7130799889564514, -0.5445948839187622, -0....         11.618000  \n",
       "2  [-0.8353576064109802, -0.6093693375587463, -0....         16.546154  \n",
       "3  [-0.8522624969482422, -0.5257986783981323, -0....         16.237500  \n",
       "4  [-0.8538389205932617, -0.47541171312332153, -0...         13.237500  "
      ]
     },
     "execution_count": 5,
     "metadata": {},
     "output_type": "execute_result"
    }
   ],
   "source": [
    "items.head()"
   ]
  },
  {
   "cell_type": "code",
   "execution_count": 6,
   "metadata": {},
   "outputs": [
    {
     "data": {
      "text/plain": [
       "array([[-0.21872418, -0.25007266, -0.8676973 , ..., -0.81096423,\n",
       "        -0.48364848,  0.23691408],\n",
       "       [-0.71307999, -0.54459488, -0.96643782, ..., -0.9660297 ,\n",
       "        -0.63595694,  0.42050147],\n",
       "       [-0.83535761, -0.60936934, -0.97644138, ..., -0.89264345,\n",
       "        -0.69918853,  0.58237803],\n",
       "       ...,\n",
       "       [-0.85379964, -0.55762357, -0.90438592, ..., -0.87588161,\n",
       "        -0.65999103,  0.67038369],\n",
       "       [-0.65839285, -0.34608755, -0.97733754, ..., -0.97883922,\n",
       "        -0.53299916,  0.49857637],\n",
       "       [-0.88605624, -0.65183997, -0.99130929, ..., -0.98189676,\n",
       "        -0.73334104,  0.73316491]])"
      ]
     },
     "execution_count": 6,
     "metadata": {},
     "output_type": "execute_result"
    }
   ],
   "source": [
    "representation_list = items['representation'].apply(eval).tolist()\n",
    "\n",
    "# Convert the list of lists to an array where each row is the representation\n",
    "representations_array = np.array(representation_list)\n",
    "\n",
    "representations_array"
   ]
  },
  {
   "cell_type": "code",
   "execution_count": 10,
   "metadata": {},
   "outputs": [
    {
     "data": {
      "text/plain": [
       "(6690, 768)"
      ]
     },
     "execution_count": 10,
     "metadata": {},
     "output_type": "execute_result"
    }
   ],
   "source": [
    "representations_array.shape"
   ]
  },
  {
   "cell_type": "code",
   "execution_count": 6,
   "metadata": {},
   "outputs": [],
   "source": [
    "# Map items to indices\n",
    "item_to_index = {item_id: index for index, item_id in enumerate(items['id'])}\n"
   ]
  },
  {
   "cell_type": "code",
   "execution_count": 11,
   "metadata": {},
   "outputs": [],
   "source": [
    "df_index = pd.read_csv('/Users/stoneman/Library/CloudStorage/OneDrive-Vanderbilt/Social_Network_Analysis/Amazon_Recommandation_Project/data/train_and_test_index.csv')"
   ]
  },
  {
   "cell_type": "markdown",
   "metadata": {},
   "source": [
    "## Adjacency Matrix"
   ]
  },
  {
   "cell_type": "code",
   "execution_count": 12,
   "metadata": {},
   "outputs": [],
   "source": [
    "# Initialize an adjacency matrix with zeros\n",
    "adjacency_matrix = np.zeros((len(items), len(items)))\n",
    "\n",
    "# Iterate over the training dataset to populate the adjacency matrix\n",
    "for _, row in df_index.iterrows():\n",
    "\n",
    "    adjacency_matrix[row['last_item_index'], row['next_item_index']] += 1  # Increment the weight for the link\n",
    "    adjacency_matrix[row['last_second_index'], row['last_item_index']] += 1  # Increment the weight for the link\n",
    "\n",
    "# transpose the matrix because I want to aggregate the features from the previous items\n",
    "adjacency_matrix = adjacency_matrix.T\n",
    "\n",
    "# Sum the elements of each row (axis=1 for rows)\n",
    "row_sums = adjacency_matrix.sum(axis=1)\n",
    "\n",
    "# Avoid division by zero by replacing zero row sums with 1\n",
    "row_sums[row_sums == 0] = 1\n",
    "\n",
    "# Divide each row by its sum to normalize it so that each row sums to 1\n",
    "adjacency_matrix_normalized = adjacency_matrix / row_sums[:, np.newaxis]"
   ]
  },
  {
   "cell_type": "markdown",
   "metadata": {},
   "source": [
    "### Aggregating the Features\n",
    "Now we have the adjacency matrix, we can aggregate features. Since we're interested in the likelihood of purchasing the next_item based on prev_items, we want to collect features from source nodes (prev_items) to destination nodes (next_item). Thus, we should use A*X:\n",
    "\n",
    "**Note: here we use the transpose of A, which is A.T, because we want to aggregate features from source nodes to destination nodes.**"
   ]
  },
  {
   "cell_type": "code",
   "execution_count": 16,
   "metadata": {},
   "outputs": [],
   "source": [
    "# Now the row-normalized adjacency_matrix can be used to perform the aggregation\n",
    "aggregated_representation = adjacency_matrix_normalized.dot(representations_array)"
   ]
  },
  {
   "cell_type": "code",
   "execution_count": 17,
   "metadata": {},
   "outputs": [
    {
     "data": {
      "text/plain": [
       "(6690, 768)"
      ]
     },
     "execution_count": 17,
     "metadata": {},
     "output_type": "execute_result"
    }
   ],
   "source": [
    "aggregated_representation.shape"
   ]
  },
  {
   "cell_type": "code",
   "execution_count": 23,
   "metadata": {},
   "outputs": [
    {
     "data": {
      "text/plain": [
       "(6690, 1536)"
      ]
     },
     "execution_count": 23,
     "metadata": {},
     "output_type": "execute_result"
    }
   ],
   "source": [
    "combined_representation = np.hstack((representations_array, aggregated_representation))\n",
    "combined_representation.shape"
   ]
  },
  {
   "cell_type": "code",
   "execution_count": 25,
   "metadata": {},
   "outputs": [
    {
     "data": {
      "text/plain": [
       "(6690, 2)"
      ]
     },
     "execution_count": 25,
     "metadata": {},
     "output_type": "execute_result"
    }
   ],
   "source": [
    "combined_price = items[['price', 'aggregated_price']].values\n",
    "combined_price.shape"
   ]
  },
  {
   "cell_type": "code",
   "execution_count": 1,
   "metadata": {},
   "outputs": [
    {
     "ename": "NameError",
     "evalue": "name 'items' is not defined",
     "output_type": "error",
     "traceback": [
      "\u001b[0;31m---------------------------------------------------------------------------\u001b[0m",
      "\u001b[0;31mNameError\u001b[0m                                 Traceback (most recent call last)",
      "\u001b[0;32m/var/folders/qx/wt3y86vj50sg2s6pkc5y62l00000gn/T/ipykernel_84160/330343547.py\u001b[0m in \u001b[0;36m<module>\u001b[0;34m\u001b[0m\n\u001b[0;32m----> 1\u001b[0;31m \u001b[0mitems\u001b[0m\u001b[0;34m[\u001b[0m\u001b[0;34m'price'\u001b[0m\u001b[0;34m]\u001b[0m\u001b[0;34m.\u001b[0m\u001b[0mdescribe\u001b[0m\u001b[0;34m(\u001b[0m\u001b[0;34m)\u001b[0m\u001b[0;34m\u001b[0m\u001b[0;34m\u001b[0m\u001b[0m\n\u001b[0m",
      "\u001b[0;31mNameError\u001b[0m: name 'items' is not defined"
     ]
    }
   ],
   "source": [
    "items['price'].describe()"
   ]
  },
  {
   "cell_type": "code",
   "execution_count": 26,
   "metadata": {},
   "outputs": [],
   "source": [
    "combined_features = np.hstack((combined_representation, combined_price))"
   ]
  },
  {
   "cell_type": "code",
   "execution_count": 27,
   "metadata": {},
   "outputs": [
    {
     "data": {
      "text/plain": [
       "(6690, 1538)"
      ]
     },
     "execution_count": 27,
     "metadata": {},
     "output_type": "execute_result"
    }
   ],
   "source": [
    "combined_features.shape"
   ]
  },
  {
   "cell_type": "code",
   "execution_count": 28,
   "metadata": {},
   "outputs": [],
   "source": [
    "# Save the array to a file \n",
    "np.save('/Users/stoneman/Library/CloudStorage/OneDrive-Vanderbilt/Social_Network_Analysis/Amazon_Recommandation_Project/data/combined_features.npy', combined_features)"
   ]
  },
  {
   "cell_type": "code",
   "execution_count": 29,
   "metadata": {},
   "outputs": [
    {
     "data": {
      "text/html": [
       "<div>\n",
       "<style scoped>\n",
       "    .dataframe tbody tr th:only-of-type {\n",
       "        vertical-align: middle;\n",
       "    }\n",
       "\n",
       "    .dataframe tbody tr th {\n",
       "        vertical-align: top;\n",
       "    }\n",
       "\n",
       "    .dataframe thead th {\n",
       "        text-align: right;\n",
       "    }\n",
       "</style>\n",
       "<table border=\"1\" class=\"dataframe\">\n",
       "  <thead>\n",
       "    <tr style=\"text-align: right;\">\n",
       "      <th></th>\n",
       "      <th>index</th>\n",
       "      <th>id</th>\n",
       "      <th>price</th>\n",
       "      <th>representation</th>\n",
       "      <th>aggregated_price</th>\n",
       "    </tr>\n",
       "  </thead>\n",
       "  <tbody>\n",
       "    <tr>\n",
       "      <th>0</th>\n",
       "      <td>0</td>\n",
       "      <td>B07PNBPVN1</td>\n",
       "      <td>3.75</td>\n",
       "      <td>[-0.21872417628765106, -0.2500726580619812, -0...</td>\n",
       "      <td>7.297000</td>\n",
       "    </tr>\n",
       "    <tr>\n",
       "      <th>1</th>\n",
       "      <td>1</td>\n",
       "      <td>B0B45XQ6Q3</td>\n",
       "      <td>8.59</td>\n",
       "      <td>[-0.7130799889564514, -0.5445948839187622, -0....</td>\n",
       "      <td>11.618000</td>\n",
       "    </tr>\n",
       "    <tr>\n",
       "      <th>2</th>\n",
       "      <td>2</td>\n",
       "      <td>B01CR9IRWY</td>\n",
       "      <td>16.00</td>\n",
       "      <td>[-0.8353576064109802, -0.6093693375587463, -0....</td>\n",
       "      <td>16.546154</td>\n",
       "    </tr>\n",
       "    <tr>\n",
       "      <th>3</th>\n",
       "      <td>3</td>\n",
       "      <td>B077RCBS9C</td>\n",
       "      <td>36.98</td>\n",
       "      <td>[-0.8522624969482422, -0.5257986783981323, -0....</td>\n",
       "      <td>16.237500</td>\n",
       "    </tr>\n",
       "    <tr>\n",
       "      <th>4</th>\n",
       "      <td>4</td>\n",
       "      <td>B088BMDXPD</td>\n",
       "      <td>7.99</td>\n",
       "      <td>[-0.8538389205932617, -0.47541171312332153, -0...</td>\n",
       "      <td>13.237500</td>\n",
       "    </tr>\n",
       "    <tr>\n",
       "      <th>...</th>\n",
       "      <td>...</td>\n",
       "      <td>...</td>\n",
       "      <td>...</td>\n",
       "      <td>...</td>\n",
       "      <td>...</td>\n",
       "    </tr>\n",
       "    <tr>\n",
       "      <th>6685</th>\n",
       "      <td>6685</td>\n",
       "      <td>B00NBR70DO</td>\n",
       "      <td>13.22</td>\n",
       "      <td>[-0.9247933626174927, -0.5451830625534058, -0....</td>\n",
       "      <td>47.385000</td>\n",
       "    </tr>\n",
       "    <tr>\n",
       "      <th>6686</th>\n",
       "      <td>6686</td>\n",
       "      <td>B08HYPQ4VR</td>\n",
       "      <td>12.99</td>\n",
       "      <td>[-0.9244785308837891, -0.5655009150505066, -0....</td>\n",
       "      <td>9.966667</td>\n",
       "    </tr>\n",
       "    <tr>\n",
       "      <th>6687</th>\n",
       "      <td>6687</td>\n",
       "      <td>B09LR8NRL9</td>\n",
       "      <td>2.89</td>\n",
       "      <td>[-0.8537996411323547, -0.557623565196991, -0.9...</td>\n",
       "      <td>4.481667</td>\n",
       "    </tr>\n",
       "    <tr>\n",
       "      <th>6688</th>\n",
       "      <td>6688</td>\n",
       "      <td>B0987DMWKW</td>\n",
       "      <td>15.99</td>\n",
       "      <td>[-0.6583928465843201, -0.3460875451564789, -0....</td>\n",
       "      <td>14.990000</td>\n",
       "    </tr>\n",
       "    <tr>\n",
       "      <th>6689</th>\n",
       "      <td>6689</td>\n",
       "      <td>B08BHMLGSV</td>\n",
       "      <td>15.99</td>\n",
       "      <td>[-0.8860562443733215, -0.6518399715423584, -0....</td>\n",
       "      <td>15.990000</td>\n",
       "    </tr>\n",
       "  </tbody>\n",
       "</table>\n",
       "<p>6690 rows × 5 columns</p>\n",
       "</div>"
      ],
      "text/plain": [
       "      index          id  price  \\\n",
       "0         0  B07PNBPVN1   3.75   \n",
       "1         1  B0B45XQ6Q3   8.59   \n",
       "2         2  B01CR9IRWY  16.00   \n",
       "3         3  B077RCBS9C  36.98   \n",
       "4         4  B088BMDXPD   7.99   \n",
       "...     ...         ...    ...   \n",
       "6685   6685  B00NBR70DO  13.22   \n",
       "6686   6686  B08HYPQ4VR  12.99   \n",
       "6687   6687  B09LR8NRL9   2.89   \n",
       "6688   6688  B0987DMWKW  15.99   \n",
       "6689   6689  B08BHMLGSV  15.99   \n",
       "\n",
       "                                         representation  aggregated_price  \n",
       "0     [-0.21872417628765106, -0.2500726580619812, -0...          7.297000  \n",
       "1     [-0.7130799889564514, -0.5445948839187622, -0....         11.618000  \n",
       "2     [-0.8353576064109802, -0.6093693375587463, -0....         16.546154  \n",
       "3     [-0.8522624969482422, -0.5257986783981323, -0....         16.237500  \n",
       "4     [-0.8538389205932617, -0.47541171312332153, -0...         13.237500  \n",
       "...                                                 ...               ...  \n",
       "6685  [-0.9247933626174927, -0.5451830625534058, -0....         47.385000  \n",
       "6686  [-0.9244785308837891, -0.5655009150505066, -0....          9.966667  \n",
       "6687  [-0.8537996411323547, -0.557623565196991, -0.9...          4.481667  \n",
       "6688  [-0.6583928465843201, -0.3460875451564789, -0....         14.990000  \n",
       "6689  [-0.8860562443733215, -0.6518399715423584, -0....         15.990000  \n",
       "\n",
       "[6690 rows x 5 columns]"
      ]
     },
     "execution_count": 29,
     "metadata": {},
     "output_type": "execute_result"
    }
   ],
   "source": [
    "items"
   ]
  },
  {
   "cell_type": "code",
   "execution_count": 30,
   "metadata": {},
   "outputs": [],
   "source": [
    "items_with_combined_features = items[['index', 'id']].copy()"
   ]
  },
  {
   "cell_type": "code",
   "execution_count": 31,
   "metadata": {},
   "outputs": [],
   "source": [
    "items_with_combined_features['combined_features']=combined_features.tolist()"
   ]
  },
  {
   "cell_type": "code",
   "execution_count": 32,
   "metadata": {},
   "outputs": [
    {
     "data": {
      "text/html": [
       "<div>\n",
       "<style scoped>\n",
       "    .dataframe tbody tr th:only-of-type {\n",
       "        vertical-align: middle;\n",
       "    }\n",
       "\n",
       "    .dataframe tbody tr th {\n",
       "        vertical-align: top;\n",
       "    }\n",
       "\n",
       "    .dataframe thead th {\n",
       "        text-align: right;\n",
       "    }\n",
       "</style>\n",
       "<table border=\"1\" class=\"dataframe\">\n",
       "  <thead>\n",
       "    <tr style=\"text-align: right;\">\n",
       "      <th></th>\n",
       "      <th>index</th>\n",
       "      <th>id</th>\n",
       "      <th>combined_features</th>\n",
       "    </tr>\n",
       "  </thead>\n",
       "  <tbody>\n",
       "    <tr>\n",
       "      <th>0</th>\n",
       "      <td>0</td>\n",
       "      <td>B07PNBPVN1</td>\n",
       "      <td>[-0.21872417628765106, -0.2500726580619812, -0...</td>\n",
       "    </tr>\n",
       "    <tr>\n",
       "      <th>1</th>\n",
       "      <td>1</td>\n",
       "      <td>B0B45XQ6Q3</td>\n",
       "      <td>[-0.7130799889564514, -0.5445948839187622, -0....</td>\n",
       "    </tr>\n",
       "    <tr>\n",
       "      <th>2</th>\n",
       "      <td>2</td>\n",
       "      <td>B01CR9IRWY</td>\n",
       "      <td>[-0.8353576064109802, -0.6093693375587463, -0....</td>\n",
       "    </tr>\n",
       "    <tr>\n",
       "      <th>3</th>\n",
       "      <td>3</td>\n",
       "      <td>B077RCBS9C</td>\n",
       "      <td>[-0.8522624969482422, -0.5257986783981323, -0....</td>\n",
       "    </tr>\n",
       "    <tr>\n",
       "      <th>4</th>\n",
       "      <td>4</td>\n",
       "      <td>B088BMDXPD</td>\n",
       "      <td>[-0.8538389205932617, -0.47541171312332153, -0...</td>\n",
       "    </tr>\n",
       "    <tr>\n",
       "      <th>...</th>\n",
       "      <td>...</td>\n",
       "      <td>...</td>\n",
       "      <td>...</td>\n",
       "    </tr>\n",
       "    <tr>\n",
       "      <th>6685</th>\n",
       "      <td>6685</td>\n",
       "      <td>B00NBR70DO</td>\n",
       "      <td>[-0.9247933626174927, -0.5451830625534058, -0....</td>\n",
       "    </tr>\n",
       "    <tr>\n",
       "      <th>6686</th>\n",
       "      <td>6686</td>\n",
       "      <td>B08HYPQ4VR</td>\n",
       "      <td>[-0.9244785308837891, -0.5655009150505066, -0....</td>\n",
       "    </tr>\n",
       "    <tr>\n",
       "      <th>6687</th>\n",
       "      <td>6687</td>\n",
       "      <td>B09LR8NRL9</td>\n",
       "      <td>[-0.8537996411323547, -0.557623565196991, -0.9...</td>\n",
       "    </tr>\n",
       "    <tr>\n",
       "      <th>6688</th>\n",
       "      <td>6688</td>\n",
       "      <td>B0987DMWKW</td>\n",
       "      <td>[-0.6583928465843201, -0.3460875451564789, -0....</td>\n",
       "    </tr>\n",
       "    <tr>\n",
       "      <th>6689</th>\n",
       "      <td>6689</td>\n",
       "      <td>B08BHMLGSV</td>\n",
       "      <td>[-0.8860562443733215, -0.6518399715423584, -0....</td>\n",
       "    </tr>\n",
       "  </tbody>\n",
       "</table>\n",
       "<p>6690 rows × 3 columns</p>\n",
       "</div>"
      ],
      "text/plain": [
       "      index          id                                  combined_features\n",
       "0         0  B07PNBPVN1  [-0.21872417628765106, -0.2500726580619812, -0...\n",
       "1         1  B0B45XQ6Q3  [-0.7130799889564514, -0.5445948839187622, -0....\n",
       "2         2  B01CR9IRWY  [-0.8353576064109802, -0.6093693375587463, -0....\n",
       "3         3  B077RCBS9C  [-0.8522624969482422, -0.5257986783981323, -0....\n",
       "4         4  B088BMDXPD  [-0.8538389205932617, -0.47541171312332153, -0...\n",
       "...     ...         ...                                                ...\n",
       "6685   6685  B00NBR70DO  [-0.9247933626174927, -0.5451830625534058, -0....\n",
       "6686   6686  B08HYPQ4VR  [-0.9244785308837891, -0.5655009150505066, -0....\n",
       "6687   6687  B09LR8NRL9  [-0.8537996411323547, -0.557623565196991, -0.9...\n",
       "6688   6688  B0987DMWKW  [-0.6583928465843201, -0.3460875451564789, -0....\n",
       "6689   6689  B08BHMLGSV  [-0.8860562443733215, -0.6518399715423584, -0....\n",
       "\n",
       "[6690 rows x 3 columns]"
      ]
     },
     "execution_count": 32,
     "metadata": {},
     "output_type": "execute_result"
    }
   ],
   "source": [
    "items_with_combined_features"
   ]
  },
  {
   "cell_type": "code",
   "execution_count": 33,
   "metadata": {},
   "outputs": [],
   "source": [
    "items_with_combined_features.to_csv('/Users/stoneman/Library/CloudStorage/OneDrive-Vanderbilt/Social_Network_Analysis/Amazon_Recommandation_Project/data/items_with_combined_features.csv', index=False)"
   ]
  },
  {
   "cell_type": "code",
   "execution_count": null,
   "metadata": {},
   "outputs": [],
   "source": []
  }
 ],
 "metadata": {
  "kernelspec": {
   "display_name": "Python 3",
   "language": "python",
   "name": "python3"
  },
  "language_info": {
   "codemirror_mode": {
    "name": "ipython",
    "version": 3
   },
   "file_extension": ".py",
   "mimetype": "text/x-python",
   "name": "python",
   "nbconvert_exporter": "python",
   "pygments_lexer": "ipython3",
   "version": "3.9.7"
  }
 },
 "nbformat": 4,
 "nbformat_minor": 2
}
